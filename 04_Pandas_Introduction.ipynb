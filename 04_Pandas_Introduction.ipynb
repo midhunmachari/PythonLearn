{
 "cells": [
  {
   "cell_type": "markdown",
   "id": "53c9c575-00fc-48f7-8585-dca65f3cc9a4",
   "metadata": {},
   "source": [
    "# Introduction to Pandas\n",
    "\n",
    "**Pandas** is an open-source data manipulation and analysis library for the Python programming language. It provides easy-to-use data structures and data analysis tools for working with structured data, such as tabular data (like spreadsheets or SQL tables).\n",
    "\n",
    "The name *\"pandas\"* is derived from the term **\"panel data,\"** which is a type of multi-dimensional data set commonly used in statistics and econometrics.\n",
    "\n",
    "Pandas is particularly well-suited for tasks such as:\n",
    "\n",
    "- Data cleaning  \n",
    "- Data transformation  \n",
    "- Data analysis  \n",
    "\n",
    "It offers two primary data structures:\n",
    "\n",
    "1. **Series** – a one-dimensional labeled array capable of holding any data type (integers, strings, floating point numbers, Python objects, etc.)\n",
    "2. **DataFrame** – a two-dimensional labeled data structure with columns of potentially different types, similar to a spreadsheet or SQL table\n"
   ]
  },
  {
   "cell_type": "markdown",
   "id": "867b8ddf-fbdb-4724-8d79-35ff696c6a62",
   "metadata": {},
   "source": [
    "## Pandas Functionality Overview\n",
    "\n",
    "Pandas provides a wide range of functions and methods for data manipulation and analysis, including:\n",
    "\n",
    "- Handling missing data\n",
    "- Data filtering and selection\n",
    "- Aggregation and summarization\n",
    "- Data merging and joining\n",
    "- Time series manipulation\n",
    "- Reading and writing data from/to CSV, Excel, SQL databases, etc.\n",
    "\n",
    "It is often used with libraries like **NumPy** (for numerical computation) and **Matplotlib/Seaborn** (for visualization).\n"
   ]
  },
  {
   "cell_type": "markdown",
   "id": "6ab52232-fefc-47d5-a8a3-25f8ee797d5e",
   "metadata": {},
   "source": [
    "# Data Structures in Pandas\n",
    "\n",
    "## 1. DataFrame\n",
    "\n",
    "- Two-dimensional tabular structure\n",
    "- Consists of rows and columns\n",
    "- Columns are Series objects with different data types\n",
    "- Both rows and columns are labeled\n",
    "- Think of a DataFrame as a collection of Series sharing a common index\n",
    "\n",
    "### Example: Creating a DataFrame\n"
   ]
  },
  {
   "cell_type": "code",
   "execution_count": 4,
   "id": "113e734c-9f98-4e28-a7e7-1d8f28f96206",
   "metadata": {},
   "outputs": [
    {
     "data": {
      "text/html": [
       "<div>\n",
       "<style scoped>\n",
       "    .dataframe tbody tr th:only-of-type {\n",
       "        vertical-align: middle;\n",
       "    }\n",
       "\n",
       "    .dataframe tbody tr th {\n",
       "        vertical-align: top;\n",
       "    }\n",
       "\n",
       "    .dataframe thead th {\n",
       "        text-align: right;\n",
       "    }\n",
       "</style>\n",
       "<table border=\"1\" class=\"dataframe\">\n",
       "  <thead>\n",
       "    <tr style=\"text-align: right;\">\n",
       "      <th></th>\n",
       "      <th>Name</th>\n",
       "      <th>Age</th>\n",
       "      <th>City</th>\n",
       "    </tr>\n",
       "  </thead>\n",
       "  <tbody>\n",
       "    <tr>\n",
       "      <th>0</th>\n",
       "      <td>Alice</td>\n",
       "      <td>25</td>\n",
       "      <td>New York</td>\n",
       "    </tr>\n",
       "    <tr>\n",
       "      <th>1</th>\n",
       "      <td>Bob</td>\n",
       "      <td>30</td>\n",
       "      <td>San Francisco</td>\n",
       "    </tr>\n",
       "    <tr>\n",
       "      <th>2</th>\n",
       "      <td>Charlie</td>\n",
       "      <td>35</td>\n",
       "      <td>Los Angeles</td>\n",
       "    </tr>\n",
       "  </tbody>\n",
       "</table>\n",
       "</div>"
      ],
      "text/plain": [
       "      Name  Age           City\n",
       "0    Alice   25       New York\n",
       "1      Bob   30  San Francisco\n",
       "2  Charlie   35    Los Angeles"
      ]
     },
     "execution_count": 4,
     "metadata": {},
     "output_type": "execute_result"
    }
   ],
   "source": [
    "import pandas as pd\n",
    "\n",
    "data = {\n",
    "    'Name': ['Alice', 'Bob', 'Charlie'],\n",
    "    'Age': [25, 30, 35],\n",
    "    'City': ['New York', 'San Francisco', 'Los Angeles']\n",
    "}\n",
    "\n",
    "df = pd.DataFrame(data)\n",
    "df\n"
   ]
  },
  {
   "cell_type": "markdown",
   "id": "dd7cd433-0741-4d43-9ecc-b411eb11e765",
   "metadata": {},
   "source": [
    "## 1. Series\n",
    "\n",
    "- One-dimensional data structure\n",
    "- Can be thought of as a column/row from a DataFrame\n",
    "- Each element is associated with an index\n",
    "- Can hold integers, strings, dates, etc.\n",
    "\n",
    "### Example: Creating a Series\n"
   ]
  },
  {
   "cell_type": "code",
   "execution_count": 6,
   "id": "429bbf45-f15a-4bf1-aea7-2eaf2061dde4",
   "metadata": {},
   "outputs": [
    {
     "data": {
      "text/plain": [
       "0    25\n",
       "1    30\n",
       "2    35\n",
       "Name: Age, dtype: int64"
      ]
     },
     "execution_count": 6,
     "metadata": {},
     "output_type": "execute_result"
    }
   ],
   "source": [
    "import pandas as pd\n",
    "\n",
    "ages = pd.Series([25, 30, 35], name='Age')\n",
    "ages\n"
   ]
  },
  {
   "cell_type": "markdown",
   "id": "65eb5897-8914-44b8-9e34-bb669ad205b4",
   "metadata": {},
   "source": [
    "## Operations and Functionality:"
   ]
  },
  {
   "cell_type": "markdown",
   "id": "255844d6-dcd8-4e46-b45a-b7a19827427c",
   "metadata": {},
   "source": [
    "Pandas provides a wide range of operations and functionality for working with data,  \n",
    "including:  \n",
    "1. Data Cleaning:  \n",
    "Handling missing data: Pandas provides methods like isna() , fillna() , and dropna() to deal with missing values.  \n",
    "Data imputation: You can fill missing values with meaningful data using methods   like fillna() or statistical techniques.  \n",
    "2. Data Selection and Filtering:  \n",
    "You can select specific rows and columns, filter data based on conditions, and use  boolean indexing to retrieve relevant data.  \n",
    "3. Data Aggregation and Summarization:  \n",
    "Pandas allows you to perform aggregate functions on data, such as sum() ,  mean() , count() , and more.  \n",
    "Grouping and aggregating data based on specific criteria is made easy with the  groupby() method.  \n",
    "4. Data Merging and Joining:  \n",
    "You can merge data from multiple DataFrames using functions like merge() and   concat() .  This is particularly useful when working with multiple data sources.  \n",
    "5. Time Series Data Manipulation:  \n",
    "Pandas has built-in support for working with time series data, making it simple to  perform operations on time-based data.  \n",
    "6. Reading and Writing Data:  \n",
    "Pandas can read data from various file formats, including CSV, Excel, SQL  databases, JSON, and more, using functions like read_csv() ,  ead_excel() ,  and read_sql() .  \n",
    "It can also write DataFrames back to these formats using functions like to_csv()  and to_excel() .\n"
   ]
  },
  {
   "cell_type": "markdown",
   "id": "ab1980ff-2f34-4274-bcb2-ca158eab4283",
   "metadata": {},
   "source": [
    "In summary, Pandas is a powerful Python library for data manipulation and analysis that\n",
    "simplifies working with structured data, making it a valuable tool for anyone dealing with\n",
    "data in Python. Its flexibility and extensive functionality make it an essential part of the data\n",
    "science toolkit."
   ]
  },
  {
   "cell_type": "markdown",
   "id": "59f09b79-79e3-455e-90e3-31c97ecb86dc",
   "metadata": {},
   "source": [
    "## Introduction to Pandas Series in Python"
   ]
  },
  {
   "cell_type": "markdown",
   "id": "921f9307-f552-4b76-994a-a031905069c4",
   "metadata": {},
   "source": [
    "A pandas Series is a one-dimensional data structure in the pandas library, which is a popular Python library for data manipulation and analysis. It can be thought of as a labeled array or a column in a spreadsheet or a single column in a SQL table. Each element in a Series is associated with a label or index, allowing for easy and efficient data manipulation and analysis.\n",
    "\n",
    "Key features of a pandas Series include:\n",
    "\n",
    "1. **Homogeneous Data**: All elements in a Series must be of the same data type, such as integers, floats, strings, or even more complex data structures like other Series or dataframes.\n",
    "\n",
    "2. **Labels**: Each element in a Series is associated with a label or an index. You can think of the index as a unique identifier for each element in the Series. The labels can be integers, strings, or other types.\n",
    "\n",
    "3. **Powerful Data Operations**: Pandas Series allows you to perform various operations like filtering, slicing, mathematical operations, and more on the data elements efficiently.\n",
    "\n",
    "You can create a pandas Series from various data sources, such as Python lists, NumPy arrays, or dictionaries. Here's an example of creating a Series from a Python list:\n"
   ]
  },
  {
   "cell_type": "code",
   "execution_count": 7,
   "id": "a4603347-c82b-41b1-8283-09390c54f974",
   "metadata": {},
   "outputs": [
    {
     "name": "stdout",
     "output_type": "stream",
     "text": [
      "0    1\n",
      "1    2\n",
      "2    3\n",
      "3    4\n",
      "4    5\n",
      "dtype: int64\n"
     ]
    }
   ],
   "source": [
    "import pandas as pd\n",
    "data = [1, 2, 3, 4, 5]\n",
    "series = pd.Series(data)\n",
    "print(series)"
   ]
  },
  {
   "cell_type": "markdown",
   "id": "7c51a5c8-7919-49e2-a007-8d955378ed51",
   "metadata": {},
   "source": [
    "You can access data in a Series using its labels or positions, and you can perform various\n",
    "operations like filtering, aggregating, and applying functions to the data. Series are often\n",
    "used as building blocks for more complex data structures like pandas DataFrames, which are\n",
    "essentially collections of Series organized in a tabular structure."
   ]
  },
  {
   "cell_type": "markdown",
   "id": "c380120f-779a-46ef-8ed0-b684c3ba37c9",
   "metadata": {},
   "source": [
    "## Importing Pandas:"
   ]
  },
  {
   "cell_type": "markdown",
   "id": "5bf14a04-9feb-42f3-9254-05db8ae06876",
   "metadata": {},
   "source": [
    "Importing the pandas library is done using the import pandas as pd statement. It's\n",
    "considered best practice to also import numpy when working with pandas since numpy is\n",
    "often used internally for data manipulation."
   ]
  },
  {
   "cell_type": "code",
   "execution_count": 8,
   "id": "2f565125-3716-4d8d-a73b-f255ca446805",
   "metadata": {},
   "outputs": [],
   "source": [
    "import numpy as np # it is a best prctise with pandas always import numpy as well\n",
    "import pandas as pd"
   ]
  },
  {
   "cell_type": "markdown",
   "id": "4d639fd9-eb0c-4891-a3d9-588d21a2cf49",
   "metadata": {},
   "source": [
    "## Series From List:"
   ]
  },
  {
   "cell_type": "markdown",
   "id": "2cd3c7ce-dd71-4b98-86e5-41e0360efff5",
   "metadata": {},
   "source": [
    "- You can create a Series from a list, which can contain various data types. For example, you can create a Series from a list of strings, integers, or any other data type.\n"
   ]
  },
  {
   "cell_type": "code",
   "execution_count": 10,
   "id": "5874965b-3345-435a-b647-4dfc64c87acb",
   "metadata": {},
   "outputs": [
    {
     "data": {
      "text/plain": [
       "Math              67\n",
       "English           54\n",
       "SocialScience     89\n",
       "Marathi          100\n",
       "dtype: int64"
      ]
     },
     "execution_count": 10,
     "metadata": {},
     "output_type": "execute_result"
    }
   ],
   "source": [
    "# custom Index\n",
    "marks = [67,54,89,100]\n",
    "subjects = ['Math','English','SocialScience','Marathi']\n",
    "pd.Series(marks,index=subjects)"
   ]
  },
  {
   "cell_type": "markdown",
   "id": "b5074ef2-2047-4eb0-b539-0b42b02a883e",
   "metadata": {},
   "source": [
    "### Series From List (Setting a Name):\n",
    "\n",
    "- You can set a name for the Series when creating it. This name can be used to label the Series, making it more descriptive.\n"
   ]
  },
  {
   "cell_type": "code",
   "execution_count": 11,
   "id": "39954cf2-e7f4-4fc7-ae43-79c5ef769d57",
   "metadata": {},
   "outputs": [
    {
     "data": {
      "text/plain": [
       "maths       67\n",
       "english     57\n",
       "science     89\n",
       "hindi      100\n",
       "Name: marks, dtype: int64"
      ]
     },
     "execution_count": 11,
     "metadata": {},
     "output_type": "execute_result"
    }
   ],
   "source": [
    "marks = {\n",
    "'maths':67,\n",
    "'english':57,\n",
    "'science':89,\n",
    "'hindi':100\n",
    "}\n",
    "marks_series = pd.Series(marks,name='marks')\n",
    "marks_series"
   ]
  },
  {
   "cell_type": "code",
   "execution_count": 12,
   "id": "1892ad64-f551-4ebb-97bf-3610d27c4de8",
   "metadata": {},
   "outputs": [
    {
     "data": {
      "text/plain": [
       "{'maths': 67, 'english': 57, 'science': 89, 'hindi': 100}"
      ]
     },
     "execution_count": 12,
     "metadata": {},
     "output_type": "execute_result"
    }
   ],
   "source": [
    "marks"
   ]
  },
  {
   "cell_type": "markdown",
   "id": "0324588f-fd5b-4317-8b27-5c279a5c4f15",
   "metadata": {},
   "source": [
    "### Series Attributes (Size):\n",
    "\n",
    "- The `.size` attribute of a Series returns the number of elements in the Series.\n"
   ]
  },
  {
   "cell_type": "code",
   "execution_count": 13,
   "id": "669cad3d-17a1-4053-9cb5-212e0105f809",
   "metadata": {},
   "outputs": [
    {
     "data": {
      "text/plain": [
       "4"
      ]
     },
     "execution_count": 13,
     "metadata": {},
     "output_type": "execute_result"
    }
   ],
   "source": [
    "# size\n",
    "marks_series.size"
   ]
  },
  {
   "cell_type": "markdown",
   "id": "82d7f412-3575-479a-82b4-1d0234d79fac",
   "metadata": {},
   "source": [
    "## Series Attributes (Data Type - dtype):"
   ]
  },
  {
   "cell_type": "markdown",
   "id": "2c4bde26-da15-4290-b9c5-a6847af2ecf9",
   "metadata": {},
   "source": [
    "- The .dtype attribute of a Series returns the data type of the elements in the Series. In\n",
    "this case, it's 'int64', indicating integers."
   ]
  },
  {
   "cell_type": "code",
   "execution_count": 16,
   "id": "c6c31eae-f11f-4cd3-9bca-ab528628a182",
   "metadata": {},
   "outputs": [
    {
     "data": {
      "text/plain": [
       "dtype('int64')"
      ]
     },
     "execution_count": 16,
     "metadata": {},
     "output_type": "execute_result"
    }
   ],
   "source": [
    "# dtype\n",
    "marks_series.dtype"
   ]
  },
  {
   "cell_type": "markdown",
   "id": "e7cfb926-3ab9-43dc-995a-91bb7eb22546",
   "metadata": {},
   "source": [
    "### Series Attributes (Name)"
   ]
  },
  {
   "cell_type": "markdown",
   "id": "f17819ba-015f-48ef-a570-ae2b7581ee23",
   "metadata": {},
   "source": [
    "- The .name attribute of a Series allows you to set and retrieve the name of the Series. It\n",
    "can make the Series more descriptive."
   ]
  },
  {
   "cell_type": "code",
   "execution_count": 17,
   "id": "e8417ac4-a870-4624-8fa2-4e4eb43bc5f0",
   "metadata": {},
   "outputs": [
    {
     "data": {
      "text/plain": [
       "'marks'"
      ]
     },
     "execution_count": 17,
     "metadata": {},
     "output_type": "execute_result"
    }
   ],
   "source": [
    "# name\n",
    "marks_series.name"
   ]
  },
  {
   "cell_type": "markdown",
   "id": "62dcb9c7-9d80-463d-9f68-b2ec36c5c290",
   "metadata": {},
   "source": [
    "## Series Attributes (is_unique):\n",
    "- The .is_unique attribute checks if all elements in the Series are unique. If there are\n",
    "duplicates, it returns False ."
   ]
  },
  {
   "cell_type": "code",
   "execution_count": 18,
   "id": "b2e84e34-153b-4e6e-a771-99fffe1eb329",
   "metadata": {},
   "outputs": [
    {
     "data": {
      "text/plain": [
       "False"
      ]
     },
     "execution_count": 18,
     "metadata": {},
     "output_type": "execute_result"
    }
   ],
   "source": [
    "# is_unique\n",
    "marks_series.is_unique\n",
    "pd.Series([1,1,2,3,4,5]).is_unique"
   ]
  },
  {
   "cell_type": "markdown",
   "id": "544fba69-9d87-419b-9b72-0c6d01b1e787",
   "metadata": {},
   "source": [
    "## Series Attributes (Index):\n",
    "- The .index attribute returns the index labels associated with the Series, which are\n",
    "stored in an Index object."
   ]
  },
  {
   "cell_type": "code",
   "execution_count": 20,
   "id": "f4e30514-5ea5-4305-a372-03d7d9a0a659",
   "metadata": {},
   "outputs": [
    {
     "data": {
      "text/plain": [
       "Index(['maths', 'english', 'science', 'hindi'], dtype='object')"
      ]
     },
     "execution_count": 20,
     "metadata": {},
     "output_type": "execute_result"
    }
   ],
   "source": [
    "# index\n",
    "marks_series.index"
   ]
  },
  {
   "cell_type": "markdown",
   "id": "120f59a7-7ad8-4bf0-9ae9-46655416e46e",
   "metadata": {},
   "source": [
    "## Series Attributes (Values):\n",
    "- The .values attribute returns the actual data elements of the Series, stored in a\n",
    "NumPy array."
   ]
  },
  {
   "cell_type": "code",
   "execution_count": 23,
   "id": "0d68bce2-708c-415f-a849-d4c0a6334349",
   "metadata": {},
   "outputs": [
    {
     "data": {
      "text/plain": [
       "array([ 67,  57,  89, 100])"
      ]
     },
     "execution_count": 23,
     "metadata": {},
     "output_type": "execute_result"
    }
   ],
   "source": [
    "# values\n",
    "marks_series.values"
   ]
  },
  {
   "cell_type": "markdown",
   "id": "21908afe-62b1-42af-90b7-adee08b89032",
   "metadata": {},
   "source": [
    "These features and attributes make pandas Series a versatile and powerful data structure for\n",
    "working with one-dimensional data, making it a fundamental tool for data manipulation and\n",
    "analysis in Python."
   ]
  },
  {
   "cell_type": "markdown",
   "id": "feb57205-229a-40ec-870e-4106ed25a23b",
   "metadata": {},
   "source": [
    "# Working with Series in Pandas: Cricket and Bollywood Datasets"
   ]
  },
  {
   "cell_type": "markdown",
   "id": "879bd526-9316-4d1e-9e79-f7391876d624",
   "metadata": {},
   "source": [
    "## Importing Libraries:\n",
    "- The code starts by importing the necessary Python libraries, including pandas (as 'pd')\n",
    "and NumPy (as 'np')."
   ]
  },
  {
   "cell_type": "code",
   "execution_count": 24,
   "id": "860e7579-2100-4253-9925-e65f99291e8b",
   "metadata": {},
   "outputs": [],
   "source": [
    "import pandas as pd\n",
    "import numpy as np"
   ]
  },
  {
   "cell_type": "code",
   "execution_count": 25,
   "id": "86bc4e9e-c26a-445e-b93d-0532b522a1db",
   "metadata": {},
   "outputs": [],
   "source": [
    "import warnings\n",
    "warnings.filterwarnings(\"ignore\")"
   ]
  },
  {
   "cell_type": "markdown",
   "id": "9c9f38c4-51ad-4ec0-8d2a-185923a675c1",
   "metadata": {},
   "source": [
    "## Reading a CSV File with Pandas:\n",
    "- The code uses the pd.read_csv() function to read a CSV file located at\n",
    "'/content/kohli_ipl.csv'. It sets the 'match_no' column as the index and uses the\n",
    "squeeze=True parameter to read the data as a pandas Series."
   ]
  },
  {
   "cell_type": "code",
   "execution_count": 5,
   "id": "c577a00d-f703-4133-82e2-c17a83e1f86a",
   "metadata": {},
   "outputs": [
    {
     "data": {
      "text/plain": [
       "1       1\n",
       "2      23\n",
       "3      13\n",
       "4      12\n",
       "5       1\n",
       "       ..\n",
       "211     0\n",
       "212    20\n",
       "213    73\n",
       "214    25\n",
       "215     7\n",
       "Name: runs, Length: 215, dtype: int64"
      ]
     },
     "execution_count": 5,
     "metadata": {},
     "output_type": "execute_result"
    }
   ],
   "source": [
    "import pandas as pd\n",
    "\n",
    "# Create the Series manually\n",
    "runs_data = {\n",
    "    1: 1,\n",
    "    2: 23,\n",
    "    3: 13,\n",
    "    4: 12,\n",
    "    5: 1,\n",
    "    211: 0,\n",
    "    212: 20,\n",
    "    213: 73,\n",
    "    214: 25,\n",
    "    215: 7\n",
    "}\n",
    "\n",
    "# Fill in the rest with dummy values to match the correct length (215)\n",
    "# We'll just use a list comprehension and fill in zeros for missing entries\n",
    "full_index = list(range(1, 216))\n",
    "full_values = [runs_data.get(i, 0) for i in full_index]\n",
    "\n",
    "# Create the Series\n",
    "vk = pd.Series(full_values, index=full_index, name='runs')\n",
    "\n",
    "# Display the Series\n",
    "vk\n",
    "\n"
   ]
  },
  {
   "cell_type": "markdown",
   "id": "c42f10ed-facd-4d0e-9f58-8601117ffeec",
   "metadata": {},
   "source": [
    "### Displaying the 'vk' Series:\n",
    "- The code then displays the 'vk' Series, which represents data related to cricket matches\n",
    "with the match number as the index and the number of runs scored by a player."
   ]
  },
  {
   "cell_type": "markdown",
   "id": "c338ef5d-9286-440c-b409-7fb01da7df30",
   "metadata": {},
   "source": [
    "## Reading Another CSV File:\n",
    "- The code reads another CSV file located at '/content/bollywood.csv' and assigns it to\n",
    "the 'movies' Series. It sets the 'movie' column as the index."
   ]
  },
  {
   "cell_type": "code",
   "execution_count": 8,
   "id": "a9fb751d-d1a3-41b0-84b5-e2057d49d142",
   "metadata": {},
   "outputs": [
    {
     "data": {
      "text/plain": [
       "movie\n",
       "Uri: The Surgical Strike                   Vicky Kaushal\n",
       "Battalion 609                                Vicky Ahuja\n",
       "The Accidental Prime Minister (film)         Anupam Kher\n",
       "Why Cheat India                            Emraan Hashmi\n",
       "Evening Shadows                         Mona Ambegaonkar\n",
       "Hum Tumhare Hain Sanam                    Shah Rukh Khan\n",
       "Aankhen (2002 film)                     Amitabh Bachchan\n",
       "Saathiya (film)                             Vivek Oberoi\n",
       "Company (film)                                Ajay Devgn\n",
       "Awara Paagal Deewana                        Akshay Kumar\n",
       "Name: lead, dtype: object"
      ]
     },
     "execution_count": 8,
     "metadata": {},
     "output_type": "execute_result"
    }
   ],
   "source": [
    "import pandas as pd\n",
    "\n",
    "data = {\n",
    "    'movie': [\n",
    "        'Uri: The Surgical Strike',\n",
    "        'Battalion 609',\n",
    "        'The Accidental Prime Minister (film)',\n",
    "        'Why Cheat India',\n",
    "        'Evening Shadows',\n",
    "        'Hum Tumhare Hain Sanam',\n",
    "        'Aankhen (2002 film)',\n",
    "        'Saathiya (film)',\n",
    "        'Company (film)',\n",
    "        'Awara Paagal Deewana'\n",
    "    ],\n",
    "    'lead': [\n",
    "        'Vicky Kaushal',\n",
    "        'Vicky Ahuja',\n",
    "        'Anupam Kher',\n",
    "        'Emraan Hashmi',\n",
    "        'Mona Ambegaonkar',\n",
    "        'Shah Rukh Khan',\n",
    "        'Amitabh Bachchan',\n",
    "        'Vivek Oberoi',\n",
    "        'Ajay Devgn',\n",
    "        'Akshay Kumar'\n",
    "    ]\n",
    "}\n",
    "\n",
    "df = pd.DataFrame(data)\n",
    "leads = df['lead']\n",
    "leads.index = df['movie']\n",
    "leads.name = 'lead'\n",
    "leads.index.name = 'movie'\n",
    "\n",
    "leads\n"
   ]
  },
  {
   "cell_type": "markdown",
   "id": "15ddc981-39ac-4fab-a4c2-f1292ad95bf7",
   "metadata": {},
   "source": [
    "## Displaying the 'movies' Series:\n",
    "-The 'movies' Series is displayed, containing data related to Bollywood movies with the\n",
    "movie title as the index and the lead actor's name as the data."
   ]
  },
  {
   "cell_type": "markdown",
   "id": "8b8c10a1-5dce-479d-8a75-befdd5316cc5",
   "metadata": {},
   "source": [
    "# Series methods"
   ]
  },
  {
   "cell_type": "code",
   "execution_count": 9,
   "id": "0ed2ca14-4851-49d0-9673-54e963ec90b8",
   "metadata": {},
   "outputs": [
    {
     "data": {
      "text/plain": [
       "1     1\n",
       "2    23\n",
       "3    13\n",
       "4    12\n",
       "5     1\n",
       "Name: runs, dtype: int64"
      ]
     },
     "execution_count": 9,
     "metadata": {},
     "output_type": "execute_result"
    }
   ],
   "source": [
    "# head and tail\n",
    "# `head()`: Displays the first 5 rows of the 'vk' Series.\n",
    "vk.head()"
   ]
  },
  {
   "cell_type": "code",
   "execution_count": 10,
   "id": "13b7601e-65dd-4f64-ba8f-605585bee1a4",
   "metadata": {},
   "outputs": [
    {
     "data": {
      "text/plain": [
       "1      1\n",
       "2     23\n",
       "3     13\n",
       "4     12\n",
       "5      1\n",
       "6      0\n",
       "7      0\n",
       "8      0\n",
       "9      0\n",
       "10     0\n",
       "Name: runs, dtype: int64"
      ]
     },
     "execution_count": 10,
     "metadata": {},
     "output_type": "execute_result"
    }
   ],
   "source": [
    "# head(10): Displays the first 10 rows of the 'vk' Series.\n",
    "vk.head(10)"
   ]
  },
  {
   "cell_type": "code",
   "execution_count": 11,
   "id": "3546cdf2-0f52-44dc-a5f0-35558f3d82f5",
   "metadata": {},
   "outputs": [
    {
     "data": {
      "text/plain": [
       "211     0\n",
       "212    20\n",
       "213    73\n",
       "214    25\n",
       "215     7\n",
       "Name: runs, dtype: int64"
      ]
     },
     "execution_count": 11,
     "metadata": {},
     "output_type": "execute_result"
    }
   ],
   "source": [
    "# tail -> last 5 rows\n",
    "vk.tail()"
   ]
  },
  {
   "cell_type": "code",
   "execution_count": 15,
   "id": "d55b2061-abbc-4235-b4ed-46a40881ee82",
   "metadata": {},
   "outputs": [
    {
     "data": {
      "text/plain": [
       "movie\n",
       "Uri: The Surgical Strike    Vicky Kaushal\n",
       "Name: lead, dtype: object"
      ]
     },
     "execution_count": 15,
     "metadata": {},
     "output_type": "execute_result"
    }
   ],
   "source": [
    "# `sample()`: Retrieves a random sample from the 'movies' Series.\n",
    "leads.sample()\n"
   ]
  },
  {
   "cell_type": "code",
   "execution_count": 16,
   "id": "5d79a9b6-28a8-4d36-ae81-743a90ae6e12",
   "metadata": {},
   "outputs": [
    {
     "data": {
      "text/plain": [
       "movie\n",
       "Battalion 609             Vicky Ahuja\n",
       "Awara Paagal Deewana     Akshay Kumar\n",
       "Saathiya (film)          Vivek Oberoi\n",
       "Why Cheat India         Emraan Hashmi\n",
       "Company (film)             Ajay Devgn\n",
       "Name: lead, dtype: object"
      ]
     },
     "execution_count": 16,
     "metadata": {},
     "output_type": "execute_result"
    }
   ],
   "source": [
    "# `sample(5)`: Retrieves 5 random samples from the 'movies' Series.\n",
    "leads.sample(5)"
   ]
  },
  {
   "cell_type": "code",
   "execution_count": 18,
   "id": "1afd85b3-82ad-45f7-8be1-5d7b104c5a28",
   "metadata": {},
   "outputs": [
    {
     "data": {
      "text/plain": [
       "lead\n",
       "Vicky Kaushal       1\n",
       "Vicky Ahuja         1\n",
       "Anupam Kher         1\n",
       "Emraan Hashmi       1\n",
       "Mona Ambegaonkar    1\n",
       "Shah Rukh Khan      1\n",
       "Amitabh Bachchan    1\n",
       "Vivek Oberoi        1\n",
       "Ajay Devgn          1\n",
       "Akshay Kumar        1\n",
       "Name: count, dtype: int64"
      ]
     },
     "execution_count": 18,
     "metadata": {},
     "output_type": "execute_result"
    }
   ],
   "source": [
    "# `value_counts()`: Counts the number of occurrences of each lead actor in the 'mov\n",
    "leads.value_counts()"
   ]
  },
  {
   "cell_type": "code",
   "execution_count": 19,
   "id": "cb8d27f2-9613-4290-a8a0-b8ce93483ad5",
   "metadata": {},
   "outputs": [
    {
     "data": {
      "text/plain": [
       "108     0\n",
       "132     0\n",
       "133     0\n",
       "134     0\n",
       "135     0\n",
       "       ..\n",
       "3      13\n",
       "212    20\n",
       "2      23\n",
       "214    25\n",
       "213    73\n",
       "Name: runs, Length: 215, dtype: int64"
      ]
     },
     "execution_count": 19,
     "metadata": {},
     "output_type": "execute_result"
    }
   ],
   "source": [
    "# `sort_values()`: Sorts the 'vk' Series in ascending order.\n",
    "vk.sort_values()"
   ]
  },
  {
   "cell_type": "code",
   "execution_count": 20,
   "id": "5ebad7d3-a034-4df3-b2d2-bb8dd7db447e",
   "metadata": {},
   "outputs": [
    {
     "data": {
      "text/plain": [
       "73"
      ]
     },
     "execution_count": 20,
     "metadata": {},
     "output_type": "execute_result"
    }
   ],
   "source": [
    "# `sort_values(ascending=False)`: Sorts the 'vk' Series in descending order.\n",
    "vk.sort_values(ascending=False).head(1).values[0]"
   ]
  },
  {
   "cell_type": "code",
   "execution_count": 21,
   "id": "ced3b850-5423-44e3-8cc2-0d1660a1433b",
   "metadata": {},
   "outputs": [
    {
     "data": {
      "text/plain": [
       "213    73\n",
       "214    25\n",
       "2      23\n",
       "212    20\n",
       "3      13\n",
       "       ..\n",
       "81      0\n",
       "82      0\n",
       "83      0\n",
       "84      0\n",
       "108     0\n",
       "Name: runs, Length: 215, dtype: int64"
      ]
     },
     "execution_count": 21,
     "metadata": {},
     "output_type": "execute_result"
    }
   ],
   "source": [
    "#`sort_index(ascending=False)`: Sorts the 'movies' Series by index in descending or\n",
    "vk.sort_values(ascending=False)"
   ]
  },
  {
   "cell_type": "code",
   "execution_count": 23,
   "id": "475fd24b-304c-4311-84c7-ac856a0fef9b",
   "metadata": {},
   "outputs": [
    {
     "data": {
      "text/plain": [
       "movie\n",
       "Why Cheat India                            Emraan Hashmi\n",
       "Uri: The Surgical Strike                   Vicky Kaushal\n",
       "The Accidental Prime Minister (film)         Anupam Kher\n",
       "Saathiya (film)                             Vivek Oberoi\n",
       "Hum Tumhare Hain Sanam                    Shah Rukh Khan\n",
       "Evening Shadows                         Mona Ambegaonkar\n",
       "Company (film)                                Ajay Devgn\n",
       "Battalion 609                                Vicky Ahuja\n",
       "Awara Paagal Deewana                        Akshay Kumar\n",
       "Aankhen (2002 film)                     Amitabh Bachchan\n",
       "Name: lead, dtype: object"
      ]
     },
     "execution_count": 23,
     "metadata": {},
     "output_type": "execute_result"
    }
   ],
   "source": [
    "# sort_index\n",
    "leads.sort_index(ascending=False)"
   ]
  },
  {
   "cell_type": "code",
   "execution_count": 25,
   "id": "d66611fa-6056-40c7-b01a-6d2679f20606",
   "metadata": {},
   "outputs": [],
   "source": [
    "# inplace -> for permanant change\n",
    "leads.sort_index(ascending=False,inplace=True)"
   ]
  },
  {
   "cell_type": "markdown",
   "id": "db897f1f-4aac-4b22-9208-21fa7dc34c34",
   "metadata": {},
   "source": [
    "## In-Place Sorting:\n",
    "- The code shows how to perform in-place sorting by using the inplace=True\n",
    "argument with the sort_index() method for the 'movies' Series."
   ]
  },
  {
   "cell_type": "code",
   "execution_count": 26,
   "id": "46bcc3c1-ed43-4587-87f3-6a88684f5881",
   "metadata": {},
   "outputs": [
    {
     "data": {
      "text/plain": [
       "movie\n",
       "Why Cheat India                            Emraan Hashmi\n",
       "Uri: The Surgical Strike                   Vicky Kaushal\n",
       "The Accidental Prime Minister (film)         Anupam Kher\n",
       "Saathiya (film)                             Vivek Oberoi\n",
       "Hum Tumhare Hain Sanam                    Shah Rukh Khan\n",
       "Evening Shadows                         Mona Ambegaonkar\n",
       "Company (film)                                Ajay Devgn\n",
       "Battalion 609                                Vicky Ahuja\n",
       "Awara Paagal Deewana                        Akshay Kumar\n",
       "Aankhen (2002 film)                     Amitabh Bachchan\n",
       "Name: lead, dtype: object"
      ]
     },
     "execution_count": 26,
     "metadata": {},
     "output_type": "execute_result"
    }
   ],
   "source": [
    "leads"
   ]
  },
  {
   "cell_type": "markdown",
   "id": "7f8f522e-434c-455f-8734-a641d5d3c952",
   "metadata": {},
   "source": [
    "# Series Maths Methods"
   ]
  },
  {
   "cell_type": "code",
   "execution_count": 27,
   "id": "1dc7fdeb-1fea-4d8e-b7e6-35a54a0607cd",
   "metadata": {},
   "outputs": [
    {
     "data": {
      "text/plain": [
       "215"
      ]
     },
     "execution_count": 27,
     "metadata": {},
     "output_type": "execute_result"
    }
   ],
   "source": [
    "# `count()`: Counts the number of non-null elements in the 'vk' Series\n",
    "vk.count()"
   ]
  },
  {
   "cell_type": "code",
   "execution_count": 28,
   "id": "6be3034f-5fdb-4b58-a775-a8bd0069b362",
   "metadata": {},
   "outputs": [
    {
     "data": {
      "text/plain": [
       "175"
      ]
     },
     "execution_count": 28,
     "metadata": {},
     "output_type": "execute_result"
    }
   ],
   "source": [
    "# `sum()`: Calculates the total runs scored by the player in the 'vk' Series\n",
    "vk.sum()"
   ]
  },
  {
   "cell_type": "code",
   "execution_count": 30,
   "id": "dc236d9d-bc3d-4d9d-90d6-c9baae69c5a7",
   "metadata": {},
   "outputs": [
    {
     "name": "stdout",
     "output_type": "stream",
     "text": [
      "0.813953488372093\n",
      "---------\n",
      "0.0\n",
      "---------\n",
      "0          Ajay Devgn\n",
      "1        Akshay Kumar\n",
      "2    Amitabh Bachchan\n",
      "3         Anupam Kher\n",
      "4       Emraan Hashmi\n",
      "5    Mona Ambegaonkar\n",
      "6      Shah Rukh Khan\n",
      "7         Vicky Ahuja\n",
      "8       Vicky Kaushal\n",
      "9        Vivek Oberoi\n",
      "Name: lead, dtype: object\n",
      "---------\n",
      "5.761846041930543\n",
      "---------\n",
      "33.198869810910665\n"
     ]
    }
   ],
   "source": [
    "# `mean()`: Calculates the mean (average) value of the 'vk' Series.\n",
    "# `median()`: Calculates the median (middle) value of the 'vk' Series.\n",
    "# `mode()`: Calculates the mode (most frequent value) of the 'vk' Series.'''\n",
    "print(vk.mean())\n",
    "print('---------')\n",
    "print(vk.median())\n",
    "print('---------')\n",
    "print(leads.mode())\n",
    "print('---------')\n",
    "print(vk.std())\n",
    "print('---------')\n",
    "print(vk.var())"
   ]
  },
  {
   "cell_type": "code",
   "execution_count": 31,
   "id": "84ac53ed-5319-452a-813b-0d82f27474f9",
   "metadata": {},
   "outputs": [
    {
     "data": {
      "text/plain": [
       "0"
      ]
     },
     "execution_count": 31,
     "metadata": {},
     "output_type": "execute_result"
    }
   ],
   "source": [
    "# min/max\n",
    "vk.min()"
   ]
  },
  {
   "cell_type": "code",
   "execution_count": 32,
   "id": "408cab15-afa3-48b6-b8c1-370b053ec9a5",
   "metadata": {},
   "outputs": [
    {
     "data": {
      "text/plain": [
       "73"
      ]
     },
     "execution_count": 32,
     "metadata": {},
     "output_type": "execute_result"
    }
   ],
   "source": [
    "vk.max()"
   ]
  },
  {
   "cell_type": "code",
   "execution_count": 33,
   "id": "79c8320d-4cbe-428c-bf67-78964993af33",
   "metadata": {},
   "outputs": [
    {
     "data": {
      "text/plain": [
       "count    215.000000\n",
       "mean       0.813953\n",
       "std        5.761846\n",
       "min        0.000000\n",
       "25%        0.000000\n",
       "50%        0.000000\n",
       "75%        0.000000\n",
       "max       73.000000\n",
       "Name: runs, dtype: float64"
      ]
     },
     "execution_count": 33,
     "metadata": {},
     "output_type": "execute_result"
    }
   ],
   "source": [
    "# `describe()`: Provides summary statistics for the 'vk' Series, including count, m\n",
    "vk.describe()"
   ]
  },
  {
   "cell_type": "markdown",
   "id": "26dfda85-5f9f-44e1-8f65-56ee7f38f54a",
   "metadata": {},
   "source": [
    "# Some Important Series Methods\n",
    "1. astype\n",
    "2. between\n",
    "3. clip\n",
    "4. drop_duplicates\n",
    "5. isnull\n",
    "6. dropna\n",
    "7. fillna\n",
    "8. isin\n",
    "9. apply\n",
    "10. copy\n",
    "11. plot"
   ]
  },
  {
   "cell_type": "code",
   "execution_count": 35,
   "id": "36c71fa3-264d-4701-a8e2-98d26ab192a1",
   "metadata": {},
   "outputs": [],
   "source": [
    "import numpy as np\n",
    "import pandas as pd\n",
    "import warnings\n",
    "warnings.filterwarnings(\"ignore\")"
   ]
  },
  {
   "cell_type": "code",
   "execution_count": 48,
   "id": "6035fc4f-a22a-432f-9f1e-85231b456128",
   "metadata": {},
   "outputs": [
    {
     "data": {
      "text/plain": [
       "1       1\n",
       "2      23\n",
       "3      13\n",
       "4      12\n",
       "5       1\n",
       "       ..\n",
       "211     0\n",
       "212    20\n",
       "213    73\n",
       "214    25\n",
       "215     7\n",
       "Name: runs, Length: 215, dtype: int64"
      ]
     },
     "execution_count": 48,
     "metadata": {},
     "output_type": "execute_result"
    }
   ],
   "source": [
    "# Create the Series manually\n",
    "runs_data = {\n",
    "    1: 1,\n",
    "    2: 23,\n",
    "    3: 13,\n",
    "    4: 12,\n",
    "    5: 1,\n",
    "    211: 0,\n",
    "    212: 20,\n",
    "    213: 73,\n",
    "    214: 25,\n",
    "    215: 7\n",
    "}\n",
    "\n",
    "# Fill in the rest with dummy values to match the correct length (215)\n",
    "# We'll just use a list comprehension and fill in zeros for missing entries\n",
    "full_index = list(range(1, 216))\n",
    "full_values = [runs_data.get(i, 0) for i in full_index]\n",
    "\n",
    "# Create the Series\n",
    "vk = pd.Series(full_values, index=full_index, name='runs')\n",
    "\n",
    "# Display the Series\n",
    "vk\n"
   ]
  },
  {
   "cell_type": "code",
   "execution_count": 50,
   "id": "651dbb63-58f1-4969-85d3-b8df5b72a957",
   "metadata": {},
   "outputs": [
    {
     "data": {
      "text/plain": [
       "movie\n",
       "Uri: The Surgical Strike                   Vicky Kaushal\n",
       "Battalion 609                                Vicky Ahuja\n",
       "The Accidental Prime Minister (film)         Anupam Kher\n",
       "Why Cheat India                            Emraan Hashmi\n",
       "Evening Shadows                         Mona Ambegaonkar\n",
       "Hum Tumhare Hain Sanam                    Shah Rukh Khan\n",
       "Aankhen (2002 film)                     Amitabh Bachchan\n",
       "Saathiya (film)                             Vivek Oberoi\n",
       "Company (film)                                Ajay Devgn\n",
       "Awara Paagal Deewana                        Akshay Kumar\n",
       "Name: lead, dtype: object"
      ]
     },
     "execution_count": 50,
     "metadata": {},
     "output_type": "execute_result"
    }
   ],
   "source": [
    "import pandas as pd\n",
    "\n",
    "data = {\n",
    "    'movie': [\n",
    "        'Uri: The Surgical Strike',\n",
    "        'Battalion 609',\n",
    "        'The Accidental Prime Minister (film)',\n",
    "        'Why Cheat India',\n",
    "        'Evening Shadows',\n",
    "        'Hum Tumhare Hain Sanam',\n",
    "        'Aankhen (2002 film)',\n",
    "        'Saathiya (film)',\n",
    "        'Company (film)',\n",
    "        'Awara Paagal Deewana'\n",
    "    ],\n",
    "    'lead': [\n",
    "        'Vicky Kaushal',\n",
    "        'Vicky Ahuja',\n",
    "        'Anupam Kher',\n",
    "        'Emraan Hashmi',\n",
    "        'Mona Ambegaonkar',\n",
    "        'Shah Rukh Khan',\n",
    "        'Amitabh Bachchan',\n",
    "        'Vivek Oberoi',\n",
    "        'Ajay Devgn',\n",
    "        'Akshay Kumar'\n",
    "    ]\n",
    "}\n",
    "\n",
    "df = pd.DataFrame(data)\n",
    "leads = df['lead']\n",
    "leads.index = df['movie']\n",
    "leads.name = 'lead'\n",
    "leads.index.name = 'movie'\n",
    "\n",
    "leads\n"
   ]
  },
  {
   "cell_type": "markdown",
   "id": "3ddd9184-8cdd-4fbf-b5b7-13d38c36d622",
   "metadata": {},
   "source": [
    "## astype:"
   ]
  },
  {
   "cell_type": "markdown",
   "id": "5b304c9c-d024-4d19-846e-789447d7610b",
   "metadata": {},
   "source": [
    "- The astype method is used to change the data type of the elements in a Pandas\n",
    "Series. In your example, you used it to change the data type of the 'vk' Series from\n",
    "'int64' to 'int16', which can reduce memory usage if you're dealing with large datasets."
   ]
  },
  {
   "cell_type": "code",
   "execution_count": 51,
   "id": "9d638084-b0e5-4886-a572-873d3de2c05a",
   "metadata": {},
   "outputs": [
    {
     "data": {
      "text/plain": [
       "3456"
      ]
     },
     "execution_count": 51,
     "metadata": {},
     "output_type": "execute_result"
    }
   ],
   "source": [
    "# astype\n",
    "import sys\n",
    "sys.getsizeof(vk)"
   ]
  },
  {
   "cell_type": "markdown",
   "id": "f5aa20c4-b952-4e48-87e1-6541478c7c9a",
   "metadata": {},
   "source": [
    "vk.astype('int16')"
   ]
  },
  {
   "cell_type": "code",
   "execution_count": 53,
   "id": "62f66ebf-0ee3-4de5-8269-ad34a9898ce6",
   "metadata": {},
   "outputs": [
    {
     "data": {
      "text/plain": [
       "2166"
      ]
     },
     "execution_count": 53,
     "metadata": {},
     "output_type": "execute_result"
    }
   ],
   "source": [
    "sys.getsizeof(vk.astype('int16'))"
   ]
  },
  {
   "cell_type": "markdown",
   "id": "4dd696e5-45ca-423b-b529-e2150f1c2eb0",
   "metadata": {},
   "source": [
    "## between:\n",
    "- The between method is used to filter a Series to include only elements that fall within\n",
    "a specified range. In your example, you used it to filter the 'vk' Series to include only\n",
    "values between 51 and 99."
   ]
  },
  {
   "cell_type": "code",
   "execution_count": 54,
   "id": "ea7a19be-678a-49fc-b120-d76305efbf10",
   "metadata": {},
   "outputs": [
    {
     "data": {
      "text/plain": [
       "1      False\n",
       "2      False\n",
       "3      False\n",
       "4      False\n",
       "5      False\n",
       "       ...  \n",
       "211    False\n",
       "212    False\n",
       "213     True\n",
       "214    False\n",
       "215    False\n",
       "Name: runs, Length: 215, dtype: bool"
      ]
     },
     "execution_count": 54,
     "metadata": {},
     "output_type": "execute_result"
    }
   ],
   "source": [
    "# between\n",
    "vk.between(51,99)"
   ]
  },
  {
   "cell_type": "code",
   "execution_count": 55,
   "id": "68ea7668-932a-42f2-bc44-30133cd9bc10",
   "metadata": {},
   "outputs": [
    {
     "data": {
      "text/plain": [
       "1"
      ]
     },
     "execution_count": 55,
     "metadata": {},
     "output_type": "execute_result"
    }
   ],
   "source": [
    "# between\n",
    "vk[vk.between(51,99)].size"
   ]
  },
  {
   "cell_type": "markdown",
   "id": "e585aa18-28c4-4a42-800a-0023d134907e",
   "metadata": {},
   "source": [
    "## clip:"
   ]
  },
  {
   "cell_type": "markdown",
   "id": "adc7c552-ee69-411d-8717-c0aaf1c8e270",
   "metadata": {},
   "source": [
    "- The clip method is used to limit the values in a Series to a specified range. It replaces\n",
    "values that are below the lower bound with the lower bound and values above the\n",
    "upper bound with the upper bound. This can be useful for handling outliers or ensuring\n",
    "data falls within a certain range."
   ]
  },
  {
   "cell_type": "code",
   "execution_count": 56,
   "id": "34d1add4-094e-4fec-b9b8-bdefb27ae56d",
   "metadata": {},
   "outputs": [
    {
     "data": {
      "text/plain": [
       "1       1\n",
       "2      23\n",
       "3      13\n",
       "4      12\n",
       "5       1\n",
       "       ..\n",
       "211     0\n",
       "212    20\n",
       "213    73\n",
       "214    25\n",
       "215     7\n",
       "Name: runs, Length: 215, dtype: int64"
      ]
     },
     "execution_count": 56,
     "metadata": {},
     "output_type": "execute_result"
    }
   ],
   "source": [
    "# clip\n",
    "vk"
   ]
  },
  {
   "cell_type": "code",
   "execution_count": 57,
   "id": "707f0f1a-5c83-492e-866f-34f1c5e2c740",
   "metadata": {},
   "outputs": [
    {
     "data": {
      "text/plain": [
       "1      50\n",
       "2      50\n",
       "3      50\n",
       "4      50\n",
       "5      50\n",
       "       ..\n",
       "211    50\n",
       "212    50\n",
       "213    73\n",
       "214    50\n",
       "215    50\n",
       "Name: runs, Length: 215, dtype: int64"
      ]
     },
     "execution_count": 57,
     "metadata": {},
     "output_type": "execute_result"
    }
   ],
   "source": [
    "vk.clip(50,80)"
   ]
  },
  {
   "cell_type": "markdown",
   "id": "777382b6-8ead-4161-9d3e-e0c474a3d9c1",
   "metadata": {},
   "source": [
    "## drop_duplicates:\n",
    "- The drop_duplicates method is used to remove duplicate values from a Series. It\n",
    "returns a new Series with only the unique values. In your example, you used it with the\n",
    "'temp' Series to remove duplicate values."
   ]
  },
  {
   "cell_type": "code",
   "execution_count": 58,
   "id": "9673daf4-6d41-45d0-958e-9a99337fb5a3",
   "metadata": {},
   "outputs": [
    {
     "data": {
      "text/plain": [
       "0    1\n",
       "1    1\n",
       "2    2\n",
       "3    2\n",
       "4    3\n",
       "5    3\n",
       "6    4\n",
       "7    4\n",
       "dtype: int64"
      ]
     },
     "execution_count": 58,
     "metadata": {},
     "output_type": "execute_result"
    }
   ],
   "source": [
    "# drop_duplicates\n",
    "temp = pd.Series([1,1,2,2,3,3,4,4])\n",
    "temp"
   ]
  },
  {
   "cell_type": "code",
   "execution_count": 59,
   "id": "b3d110e7-8224-4e20-bfea-148bd5c58f60",
   "metadata": {},
   "outputs": [
    {
     "data": {
      "text/plain": [
       "4"
      ]
     },
     "execution_count": 59,
     "metadata": {},
     "output_type": "execute_result"
    }
   ],
   "source": [
    "temp.duplicated().sum()"
   ]
  },
  {
   "cell_type": "code",
   "execution_count": 60,
   "id": "0fb8b24c-9a67-49d7-9cd3-82fdf1f8b508",
   "metadata": {},
   "outputs": [
    {
     "data": {
      "text/plain": [
       "0    1\n",
       "2    2\n",
       "4    3\n",
       "6    4\n",
       "dtype: int64"
      ]
     },
     "execution_count": 60,
     "metadata": {},
     "output_type": "execute_result"
    }
   ],
   "source": [
    "temp.drop_duplicates()"
   ]
  },
  {
   "cell_type": "markdown",
   "id": "b7d05060-f781-4723-af1f-63f7c461bc69",
   "metadata": {},
   "source": [
    "## isnull:\n",
    "- The isnull method is used to check for missing or NaN (Not-a-Number) values in a\n",
    "Series. It returns a Boolean Series where 'True' indicates missing values and 'False'\n",
    "indicates non-missing values. In your example, you used it to find missing values in the\n",
    "'temp' Series."
   ]
  },
  {
   "cell_type": "markdown",
   "id": "0890e8e2-0299-42ae-8f57-dd7004c8f04d",
   "metadata": {},
   "source": [
    "# isnull\n",
    "temp = pd.Series([1,2,3,np.nan,5,6,np.nan,8,np.nan,10])\n",
    "temp"
   ]
  },
  {
   "cell_type": "code",
   "execution_count": 62,
   "id": "ad7c0249-6c03-4fde-a919-d2b7be354580",
   "metadata": {},
   "outputs": [
    {
     "data": {
      "text/plain": [
       "3"
      ]
     },
     "execution_count": 62,
     "metadata": {},
     "output_type": "execute_result"
    }
   ],
   "source": [
    "temp.isnull().sum()"
   ]
  },
  {
   "cell_type": "markdown",
   "id": "399cc858-cff2-4b53-bee3-3f1864e2e01c",
   "metadata": {},
   "source": [
    "## dropna:\n",
    "- The dropna method is used to remove missing values from a Series. It returns a new\n",
    "Series with the missing values removed. In your example, you used it to remove missing\n",
    "values from the 'temp' Series."
   ]
  },
  {
   "cell_type": "code",
   "execution_count": 63,
   "id": "c90c7ab0-d1e7-4e20-a4f0-8b04f717087f",
   "metadata": {},
   "outputs": [
    {
     "data": {
      "text/plain": [
       "0     1.0\n",
       "1     2.0\n",
       "2     3.0\n",
       "4     5.0\n",
       "5     6.0\n",
       "7     8.0\n",
       "9    10.0\n",
       "dtype: float64"
      ]
     },
     "execution_count": 63,
     "metadata": {},
     "output_type": "execute_result"
    }
   ],
   "source": [
    "# dropna\n",
    "temp.dropna()"
   ]
  },
  {
   "cell_type": "markdown",
   "id": "02ca124b-da62-4855-b311-29e91cf1b4f4",
   "metadata": {},
   "source": [
    "## fillna:"
   ]
  },
  {
   "cell_type": "markdown",
   "id": "e13a0abc-5fc4-4fe7-ab6e-bfe4f71a5cd6",
   "metadata": {},
   "source": [
    "- The fillna method is used to fill missing values in a Series with specified values. It\n",
    "can be used to replace missing data with a specific value, such as the mean of the non-missing values. In your example, you filled missing values in the 'temp' Series with the\n",
    "mean of the non-missing values."
   ]
  },
  {
   "cell_type": "code",
   "execution_count": 64,
   "id": "69b0cb5d-ccde-450e-9e9e-ff0ee7f65695",
   "metadata": {},
   "outputs": [
    {
     "data": {
      "text/plain": [
       "0     1.0\n",
       "1     2.0\n",
       "2     3.0\n",
       "3     5.0\n",
       "4     5.0\n",
       "5     6.0\n",
       "6     5.0\n",
       "7     8.0\n",
       "8     5.0\n",
       "9    10.0\n",
       "dtype: float64"
      ]
     },
     "execution_count": 64,
     "metadata": {},
     "output_type": "execute_result"
    }
   ],
   "source": [
    "# fillna\n",
    "temp.fillna(temp.mean())"
   ]
  },
  {
   "cell_type": "markdown",
   "id": "f0b473f0-fa84-42a0-b697-4787ad48059c",
   "metadata": {},
   "source": [
    "## isin:\n",
    "- The isin method is used to filter a Series to include only elements that match a list of\n",
    "values. In your example, you used it to filter the 'vk' Series to include only values that\n",
    "match either 49 or 99."
   ]
  },
  {
   "cell_type": "code",
   "execution_count": 65,
   "id": "d0a3fa59-b4cf-4405-aaba-3e48485fc15f",
   "metadata": {},
   "outputs": [
    {
     "data": {
      "text/plain": [
       "Series([], Name: runs, dtype: int64)"
      ]
     },
     "execution_count": 65,
     "metadata": {},
     "output_type": "execute_result"
    }
   ],
   "source": [
    "# isin\n",
    "vk[vk.isin([49,99])]"
   ]
  },
  {
   "cell_type": "markdown",
   "id": "c7b2f10b-5439-4ca7-b24c-ef2303273d9c",
   "metadata": {},
   "source": [
    "## apply:\n",
    "- The apply method is used to apply a function to each element of a Series. In your\n",
    "example, you applied a lambda function to the 'movies' Series to extract the first word\n",
    "of each element and convert it to uppercase."
   ]
  },
  {
   "cell_type": "code",
   "execution_count": 67,
   "id": "aec8ad73-502a-4851-9461-73f08be2c1e2",
   "metadata": {},
   "outputs": [
    {
     "data": {
      "text/plain": [
       "movie\n",
       "Uri: The Surgical Strike                   Vicky Kaushal\n",
       "Battalion 609                                Vicky Ahuja\n",
       "The Accidental Prime Minister (film)         Anupam Kher\n",
       "Why Cheat India                            Emraan Hashmi\n",
       "Evening Shadows                         Mona Ambegaonkar\n",
       "Hum Tumhare Hain Sanam                    Shah Rukh Khan\n",
       "Aankhen (2002 film)                     Amitabh Bachchan\n",
       "Saathiya (film)                             Vivek Oberoi\n",
       "Company (film)                                Ajay Devgn\n",
       "Awara Paagal Deewana                        Akshay Kumar\n",
       "Name: lead, dtype: object"
      ]
     },
     "execution_count": 67,
     "metadata": {},
     "output_type": "execute_result"
    }
   ],
   "source": [
    "# apply\n",
    "leads"
   ]
  },
  {
   "cell_type": "code",
   "execution_count": 68,
   "id": "4e53ce55-d231-4a49-ade4-9d610bd36e56",
   "metadata": {},
   "outputs": [
    {
     "data": {
      "text/plain": [
       "movie\n",
       "Uri: The Surgical Strike                  VICKY\n",
       "Battalion 609                             VICKY\n",
       "The Accidental Prime Minister (film)     ANUPAM\n",
       "Why Cheat India                          EMRAAN\n",
       "Evening Shadows                            MONA\n",
       "Hum Tumhare Hain Sanam                     SHAH\n",
       "Aankhen (2002 film)                     AMITABH\n",
       "Saathiya (film)                           VIVEK\n",
       "Company (film)                             AJAY\n",
       "Awara Paagal Deewana                     AKSHAY\n",
       "Name: lead, dtype: object"
      ]
     },
     "execution_count": 68,
     "metadata": {},
     "output_type": "execute_result"
    }
   ],
   "source": [
    "leads.apply(lambda x:x.split()[0].upper())"
   ]
  },
  {
   "cell_type": "markdown",
   "id": "7b7e7c55-7f67-4212-85c9-0df230ec243f",
   "metadata": {},
   "source": [
    "## copy:\n",
    "- The copy method is used to create a copy of a Series. This copy is separate from the\n",
    "original Series, and any modifications to the copy won't affect the original Series. In\n",
    "your example, you created a copy of the 'vk' Series using the 'copy' method and\n",
    "modified the copy without affecting the original Series."
   ]
  },
  {
   "cell_type": "code",
   "execution_count": 69,
   "id": "19abb0a9-a13e-4aa8-9a2a-c808dbc781d7",
   "metadata": {},
   "outputs": [
    {
     "data": {
      "text/plain": [
       "1       1\n",
       "2      23\n",
       "3      13\n",
       "4      12\n",
       "5       1\n",
       "       ..\n",
       "211     0\n",
       "212    20\n",
       "213    73\n",
       "214    25\n",
       "215     7\n",
       "Name: runs, Length: 215, dtype: int64"
      ]
     },
     "execution_count": 69,
     "metadata": {},
     "output_type": "execute_result"
    }
   ],
   "source": [
    "# copy\n",
    "vk"
   ]
  },
  {
   "cell_type": "code",
   "execution_count": 70,
   "id": "caa262fc-801a-40e4-a251-b5c29bfd9faf",
   "metadata": {},
   "outputs": [],
   "source": [
    "new = vk.head().copy()"
   ]
  },
  {
   "cell_type": "code",
   "execution_count": 71,
   "id": "9be4f445-49be-441f-8ed4-68b21144be9d",
   "metadata": {},
   "outputs": [
    {
     "data": {
      "text/plain": [
       "1     1\n",
       "2    23\n",
       "3    13\n",
       "4    12\n",
       "5     1\n",
       "Name: runs, dtype: int64"
      ]
     },
     "execution_count": 71,
     "metadata": {},
     "output_type": "execute_result"
    }
   ],
   "source": [
    "new"
   ]
  },
  {
   "cell_type": "code",
   "execution_count": 72,
   "id": "afe0e04c-8c7c-4c77-94dd-3e70a8912fac",
   "metadata": {},
   "outputs": [],
   "source": [
    "new[1] = 100"
   ]
  },
  {
   "cell_type": "code",
   "execution_count": 73,
   "id": "9c05c2e4-7155-41af-8981-4a1bba82e2df",
   "metadata": {},
   "outputs": [
    {
     "data": {
      "text/plain": [
       "1    100\n",
       "2     23\n",
       "3     13\n",
       "4     12\n",
       "5      1\n",
       "Name: runs, dtype: int64"
      ]
     },
     "execution_count": 73,
     "metadata": {},
     "output_type": "execute_result"
    }
   ],
   "source": [
    "new"
   ]
  },
  {
   "cell_type": "code",
   "execution_count": 74,
   "id": "9b507445-f436-44a8-a769-6080f473a5c8",
   "metadata": {},
   "outputs": [
    {
     "data": {
      "text/plain": [
       "1     1\n",
       "2    23\n",
       "3    13\n",
       "4    12\n",
       "5     1\n",
       "Name: runs, dtype: int64"
      ]
     },
     "execution_count": 74,
     "metadata": {},
     "output_type": "execute_result"
    }
   ],
   "source": [
    "vk.head()"
   ]
  },
  {
   "cell_type": "markdown",
   "id": "8a9d534b-66e3-48d8-b1f3-21da9d9fcf5f",
   "metadata": {},
   "source": [
    "## plot:\n",
    "- The plot method is used to create visualizations of data in a Series. You can specify\n",
    "the type of plot (e.g., 'line', 'bar', 'pie') and customize various plot attributes. In your\n",
    "example, you used it to create a pie chart of the top 20 most common values in the\n",
    "'movies' Series."
   ]
  },
  {
   "cell_type": "code",
   "execution_count": 76,
   "id": "7ce9f99a-1546-456b-a773-016a3534aba8",
   "metadata": {},
   "outputs": [
    {
     "data": {
      "text/plain": [
       "<AxesSubplot:ylabel='count'>"
      ]
     },
     "execution_count": 76,
     "metadata": {},
     "output_type": "execute_result"
    },
    {
     "data": {
      "image/png": "[encoded data removed]",
      "text/plain": [
       "<Figure size 640x480 with 1 Axes>"
      ]
     },
     "metadata": {},
     "output_type": "display_data"
    }
   ],
   "source": [
    "# plot\n",
    "leads.value_counts().head(20).plot(kind='pie')"
   ]
  },
  {
   "cell_type": "code",
   "execution_count": null,
   "id": "2065d14c-cc3c-42e5-b949-4228616c3f94",
   "metadata": {},
   "outputs": [],
   "source": []
  }
 ],
 "metadata": {
  "kernelspec": {
   "display_name": "Python 3 (ipykernel)",
   "language": "python",
   "name": "python3"
  },
  "language_info": {
   "codemirror_mode": {
    "name": "ipython",
    "version": 3
   },
   "file_extension": ".py",
   "mimetype": "text/x-python",
   "name": "python",
   "nbconvert_exporter": "python",
   "pygments_lexer": "ipython3",
   "version": "3.11.0"
  }
 },
 "nbformat": 4,
 "nbformat_minor": 5
}
